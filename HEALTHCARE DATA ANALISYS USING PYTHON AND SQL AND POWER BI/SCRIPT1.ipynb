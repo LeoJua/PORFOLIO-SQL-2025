{
 "cells": [
  {
   "cell_type": "markdown",
   "metadata": {},
   "source": [
    "Made changes."
   ]
  },
  {
   "cell_type": "code",
   "execution_count": 2,
   "metadata": {},
   "outputs": [],
   "source": [
    "import pandas as pd\n",
    "import sqlite3"
   ]
  },
  {
   "cell_type": "code",
   "execution_count": 3,
   "metadata": {},
   "outputs": [],
   "source": [
    "# 1️⃣ Leer el archivo CSV\n",
    "csv_file = \"healthcare_dataset.csv\"  # Ruta del archivo CSV\n",
    "df = pd.read_csv(csv_file)\n"
   ]
  },
  {
   "cell_type": "code",
   "execution_count": 4,
   "metadata": {},
   "outputs": [
    {
     "name": "stdout",
     "output_type": "stream",
     "text": [
      "📌 Primeras filas del archivo CSV:\n",
      "            Name  Age  Gender Blood Type Medical Condition Date of Admission  \\\n",
      "0  Bobby JacksOn   30    Male         B-            Cancer        2024-01-31   \n",
      "1   LesLie TErRy   62    Male         A+           Obesity        2019-08-20   \n",
      "2    DaNnY sMitH   76  Female         A-           Obesity        2022-09-22   \n",
      "3   andrEw waTtS   28  Female         O+          Diabetes        2020-11-18   \n",
      "4  adrIENNE bEll   43  Female        AB+            Cancer        2022-09-19   \n",
      "\n",
      "             Doctor                    Hospital Insurance Provider  \\\n",
      "0     Matthew Smith             Sons and Miller         Blue Cross   \n",
      "1   Samantha Davies                     Kim Inc           Medicare   \n",
      "2  Tiffany Mitchell                    Cook PLC              Aetna   \n",
      "3       Kevin Wells  Hernandez Rogers and Vang,           Medicare   \n",
      "4    Kathleen Hanna                 White-White              Aetna   \n",
      "\n",
      "   Billing Amount  Room Number Admission Type Discharge Date   Medication  \\\n",
      "0    18856.281306          328         Urgent     2024-02-02  Paracetamol   \n",
      "1    33643.327287          265      Emergency     2019-08-26    Ibuprofen   \n",
      "2    27955.096079          205      Emergency     2022-10-07      Aspirin   \n",
      "3    37909.782410          450       Elective     2020-12-18    Ibuprofen   \n",
      "4    14238.317814          458         Urgent     2022-10-09   Penicillin   \n",
      "\n",
      "   Test Results  \n",
      "0        Normal  \n",
      "1  Inconclusive  \n",
      "2        Normal  \n",
      "3      Abnormal  \n",
      "4      Abnormal  \n"
     ]
    }
   ],
   "source": [
    "# Mostrar las primeras filas del archivo CSV\n",
    "print(\"📌 Primeras filas del archivo CSV:\")\n",
    "print(df.head())\n"
   ]
  },
  {
   "cell_type": "code",
   "execution_count": 5,
   "metadata": {},
   "outputs": [],
   "source": [
    "# 2️⃣ Crear una base de datos SQLite en memoria (no se guarda en disco)\n",
    "conn = sqlite3.connect(\":memory:\")"
   ]
  },
  {
   "cell_type": "code",
   "execution_count": 6,
   "metadata": {},
   "outputs": [
    {
     "data": {
      "text/plain": [
       "55500"
      ]
     },
     "execution_count": 6,
     "metadata": {},
     "output_type": "execute_result"
    }
   ],
   "source": [
    "# 3️⃣ Cargar los datos en la base de datos en memoria\n",
    "table_name = \"healthcare_data\"  # Nombre de la tabla temporal\n",
    "df.to_sql(table_name, conn, if_exists=\"replace\", index=False)"
   ]
  },
  {
   "cell_type": "code",
   "execution_count": 7,
   "metadata": {},
   "outputs": [
    {
     "name": "stdout",
     "output_type": "stream",
     "text": [
      "📌 Resultado de la consulta SQL:\n",
      "            Name  Age  Gender Blood Type Medical Condition Date of Admission  \\\n",
      "0  Bobby JacksOn   30    Male         B-            Cancer        2024-01-31   \n",
      "1   LesLie TErRy   62    Male         A+           Obesity        2019-08-20   \n",
      "2    DaNnY sMitH   76  Female         A-           Obesity        2022-09-22   \n",
      "3   andrEw waTtS   28  Female         O+          Diabetes        2020-11-18   \n",
      "4  adrIENNE bEll   43  Female        AB+            Cancer        2022-09-19   \n",
      "\n",
      "             Doctor                    Hospital Insurance Provider  \\\n",
      "0     Matthew Smith             Sons and Miller         Blue Cross   \n",
      "1   Samantha Davies                     Kim Inc           Medicare   \n",
      "2  Tiffany Mitchell                    Cook PLC              Aetna   \n",
      "3       Kevin Wells  Hernandez Rogers and Vang,           Medicare   \n",
      "4    Kathleen Hanna                 White-White              Aetna   \n",
      "\n",
      "   Billing Amount  Room Number Admission Type Discharge Date   Medication  \\\n",
      "0    18856.281306          328         Urgent     2024-02-02  Paracetamol   \n",
      "1    33643.327287          265      Emergency     2019-08-26    Ibuprofen   \n",
      "2    27955.096079          205      Emergency     2022-10-07      Aspirin   \n",
      "3    37909.782410          450       Elective     2020-12-18    Ibuprofen   \n",
      "4    14238.317814          458         Urgent     2022-10-09   Penicillin   \n",
      "\n",
      "   Test Results  \n",
      "0        Normal  \n",
      "1  Inconclusive  \n",
      "2        Normal  \n",
      "3      Abnormal  \n",
      "4      Abnormal  \n"
     ]
    }
   ],
   "source": [
    "\n",
    "# 4️⃣ Realizar consultas SQL directamente en los datos cargados\n",
    "query = f\"SELECT * FROM {table_name} LIMIT 5;\"  # Consulta SQL de ejemplo\n",
    "df_sql = pd.read_sql(query, conn)\n",
    "\n",
    "# Mostrar el resultado de la consulta\n",
    "print(\"📌 Resultado de la consulta SQL:\")\n",
    "print(df_sql)\n"
   ]
  },
  {
   "cell_type": "code",
   "execution_count": 8,
   "metadata": {},
   "outputs": [
    {
     "name": "stdout",
     "output_type": "stream",
     "text": [
      "            Name  Age  Gender Blood Type Medical Condition Date of Admission  \\\n",
      "0  Bobby JacksOn   30    Male         B-            Cancer        2024-01-31   \n",
      "1   LesLie TErRy   62    Male         A+           Obesity        2019-08-20   \n",
      "2    DaNnY sMitH   76  Female         A-           Obesity        2022-09-22   \n",
      "3   andrEw waTtS   28  Female         O+          Diabetes        2020-11-18   \n",
      "4  adrIENNE bEll   43  Female        AB+            Cancer        2022-09-19   \n",
      "\n",
      "             Doctor                    Hospital Insurance Provider  \\\n",
      "0     Matthew Smith             Sons and Miller         Blue Cross   \n",
      "1   Samantha Davies                     Kim Inc           Medicare   \n",
      "2  Tiffany Mitchell                    Cook PLC              Aetna   \n",
      "3       Kevin Wells  Hernandez Rogers and Vang,           Medicare   \n",
      "4    Kathleen Hanna                 White-White              Aetna   \n",
      "\n",
      "   Billing_Amount  Room Number Admission Type Discharge Date   Medication  \\\n",
      "0    18856.281306          328         Urgent     2024-02-02  Paracetamol   \n",
      "1    33643.327287          265      Emergency     2019-08-26    Ibuprofen   \n",
      "2    27955.096079          205      Emergency     2022-10-07      Aspirin   \n",
      "3    37909.782410          450       Elective     2020-12-18    Ibuprofen   \n",
      "4    14238.317814          458         Urgent     2022-10-09   Penicillin   \n",
      "\n",
      "   Test Results  \n",
      "0        Normal  \n",
      "1  Inconclusive  \n",
      "2        Normal  \n",
      "3      Abnormal  \n",
      "4      Abnormal  \n"
     ]
    }
   ],
   "source": [
    "# Renombrar la columna \"Billing Amount\" a \"Billing_Amount\"\n",
    "df.rename(columns={\"Billing Amount\": \"Billing_Amount\"}, inplace=True)\n",
    "\n",
    "# Verificar que el cambio se aplicó\n",
    "\n",
    "print(df.head())"
   ]
  },
  {
   "cell_type": "code",
   "execution_count": 15,
   "metadata": {},
   "outputs": [
    {
     "name": "stdout",
     "output_type": "stream",
     "text": [
      "Index(['Name', 'Age', 'Gender', 'Blood_Type', 'Medical_Condition',\n",
      "       'Date_of_Admission', 'Doctor', 'Hospital', 'Insurance_Provider',\n",
      "       'Billing_Amount', 'Room_Number', 'Admission_Type', 'Discharge_Date',\n",
      "       'Medication', 'Test_Results'],\n",
      "      dtype='object')\n"
     ]
    }
   ],
   "source": [
    "df.rename(columns=lambda x: x.strip().replace(\" \", \"_\"), inplace=True)  # Reemplaza espacios por guiones bajos\n",
    "print(df.columns)  # Verifica que el cambio se aplicó\n"
   ]
  },
  {
   "cell_type": "code",
   "execution_count": 16,
   "metadata": {},
   "outputs": [
    {
     "name": "stdout",
     "output_type": "stream",
     "text": [
      "📌 Columnas en SQLite después de renombrar:\n",
      "    cid                name     type  notnull dflt_value  pk\n",
      "0     0                Name     TEXT        0       None   0\n",
      "1     1                 Age  INTEGER        0       None   0\n",
      "2     2              Gender     TEXT        0       None   0\n",
      "3     3          Blood_Type     TEXT        0       None   0\n",
      "4     4   Medical_Condition     TEXT        0       None   0\n",
      "5     5   Date_of_Admission     TEXT        0       None   0\n",
      "6     6              Doctor     TEXT        0       None   0\n",
      "7     7            Hospital     TEXT        0       None   0\n",
      "8     8  Insurance_Provider     TEXT        0       None   0\n",
      "9     9      Billing_Amount     REAL        0       None   0\n",
      "10   10         Room_Number  INTEGER        0       None   0\n",
      "11   11      Admission_Type     TEXT        0       None   0\n",
      "12   12      Discharge_Date     TEXT        0       None   0\n",
      "13   13          Medication     TEXT        0       None   0\n",
      "14   14        Test_Results     TEXT        0       None   0\n"
     ]
    }
   ],
   "source": [
    "conn = sqlite3.connect(\":memory:\")  # Base de datos en memoria (temporal)\n",
    "df.to_sql(\"healthcare_data\", conn, if_exists=\"replace\", index=False)  # Sobreescribe la tabla\n",
    "\n",
    "# Verificar que las columnas en SQLite se guardaron correctamente\n",
    "query = \"PRAGMA table_info(healthcare_data);\"  \n",
    "df_columns = pd.read_sql(query, conn)\n",
    "print(\"📌 Columnas en SQLite después de renombrar:\")\n",
    "print(df_columns)\n"
   ]
  },
  {
   "cell_type": "code",
   "execution_count": 20,
   "metadata": {},
   "outputs": [
    {
     "name": "stdout",
     "output_type": "stream",
     "text": [
      "📌 Resultado de la consulta SQL:\n",
      "                    Name  Age  Gender   Medication            Doctor  \\\n",
      "0          Bobby JacksOn   30    Male  Paracetamol     Matthew Smith   \n",
      "1          adrIENNE bEll   43  Female   Penicillin    Kathleen Hanna   \n",
      "2     CHrisTInA MARtinez   20  Female  Paracetamol    Suzanne Thomas   \n",
      "3       ChRISTopher BerG   58  Female  Paracetamol       Heather Day   \n",
      "4       mIchElLe daniELs   72    Male  Paracetamol       John Duncan   \n",
      "...                  ...  ...     ...          ...               ...   \n",
      "9222      tIFfANy miller   78    Male    Ibuprofen      Jaime Valdez   \n",
      "9223        DEBRa MIller   17    Male    Ibuprofen  Samantha Russell   \n",
      "9224    mIcHAeL SanTiAgo   58  Female    Ibuprofen     Andrea Fields   \n",
      "9225     keNNEtH alvarez   80    Male      Aspirin     Andrew Conner   \n",
      "9226    STepHAniE oliVer   82    Male   Penicillin      Gary Leblanc   \n",
      "\n",
      "      Billing_Amount  \n",
      "0       18856.281306  \n",
      "1       14238.317814  \n",
      "2       45820.462722  \n",
      "3       19784.631062  \n",
      "4       12576.795609  \n",
      "...              ...  \n",
      "9222    17217.325440  \n",
      "9223    43230.028453  \n",
      "9224    45767.175201  \n",
      "9225    45653.802310  \n",
      "9226    17350.543524  \n",
      "\n",
      "[9227 rows x 6 columns]\n"
     ]
    }
   ],
   "source": [
    "# 4️⃣ Realizar consultas SQL directamente en los datos cargados\n",
    "# Retrieve the details of all patients diagnosed with Cancer Disease.\n",
    "query = f\"SELECT Name, Age, Gender, Medication, Doctor, Billing_Amount FROM {table_name} WHERE Medical_Condition = 'Cancer';\"  # Consulta SQL de ejemplo\n",
    "df_sql = pd.read_sql(query, conn)\n",
    "\n",
    "# Mostrar el resultado de la consulta\n",
    "print(\"📌 Resultado de la consulta SQL:\")\n",
    "print(df_sql)"
   ]
  },
  {
   "cell_type": "code",
   "execution_count": null,
   "metadata": {},
   "outputs": [],
   "source": [
    "# 5️⃣ Cerrar la conexión cuando ya no se necesite\n",
    "conn.close()\n"
   ]
  }
 ],
 "metadata": {
  "kernelspec": {
   "display_name": "Python 3",
   "language": "python",
   "name": "python3"
  },
  "language_info": {
   "codemirror_mode": {
    "name": "ipython",
    "version": 3
   },
   "file_extension": ".py",
   "mimetype": "text/x-python",
   "name": "python",
   "nbconvert_exporter": "python",
   "pygments_lexer": "ipython3",
   "version": "3.11.9"
  }
 },
 "nbformat": 4,
 "nbformat_minor": 2
}
