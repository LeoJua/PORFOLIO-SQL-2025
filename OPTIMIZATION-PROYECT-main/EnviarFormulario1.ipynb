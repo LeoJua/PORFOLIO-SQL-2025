{
 "cells": [
  {
   "cell_type": "code",
   "execution_count": 13,
   "id": "9f9fbd4e",
   "metadata": {},
   "outputs": [
    {
     "name": "stderr",
     "output_type": "stream",
     "text": [
      "C:\\Users\\juang.leon\\AppData\\Local\\Temp\\ipykernel_13224\\1029107917.py:4: DeprecationWarning: executable_path has been deprecated, please pass in a Service object\n",
      "  driver = webdriver.Chrome('driver/chromedriver.exe')\n"
     ]
    }
   ],
   "source": [
    "from selenium import webdriver\n",
    "import time\n",
    "#  nos abrira la extension de chrome una nueva ventana\n",
    "driver = webdriver.Chrome('driver/chromedriver.exe')\n",
    "\n",
    "#abrir datos\n",
    "import pandas as pd\n",
    "df = pd.read_csv('test.csv', encoding = 'latin-1')\n",
    "df.head()\n",
    "\n",
    "\n",
    "# recorrermos\n",
    "for row, datos in df.iterrows():\n",
    "    codigo = datos['Codigo']\n",
    "    nombre = datos['Nombre']\n",
    "    paterno = datos['ApePaterno']\n",
    "    materno = datos['ApeMaterno']\n",
    "    gender = datos['gender']\n",
    "    mail = datos['email']\n",
    "    rubro = datos['Rubro']\n",
    "\n",
    "    # Abrir formulario\n",
    "    driver.get('https://docs.google.com/forms/d/e/1FAIpQLSeZor5qoi4eOZQtLRS0i8-0DLzkkLMOqFtKbVHvASqOovqN9w/viewform')\n",
    "    #Delay 3 segundos para abrir chrome\n",
    "    time.sleep(3)\n",
    "\n",
    "    '''encontrar un elemento por xpath -vamos al html buscamos el elemento donde querramos pegar la informacion y encontrar el elemento, copiamos y despues pegamos eso lo que hace es ingresar el ID en el formulario posteriormente con todos los elementos '''\n",
    "    # ID ingresar ID\n",
    "    driver.find_element(\"xpath\", '//*[@id=\"mG61Hd\"]/div[2]/div/div[2]/div[1]/div/div/div[2]/div/div[1]/div/div[1]/input').send_keys(codigo)\n",
    "    # Nombres\n",
    "    driver.find_element(\"xpath\", '//*[@id=\"mG61Hd\"]/div[2]/div/div[2]/div[2]/div/div/div[2]/div/div[1]/div/div[1]/input').send_keys(nombre)\n",
    "    # ApePaterno\n",
    "    driver.find_element(\"xpath\", '//*[@id=\"mG61Hd\"]/div[2]/div/div[2]/div[3]/div/div/div[2]/div/div[1]/div/div[1]/input').send_keys(paterno)\n",
    "    # ApeMaterno\n",
    "    driver.find_element(\"xpath\", '//*[@id=\"mG61Hd\"]/div[2]/div/div[2]/div[4]/div/div/div[2]/div/div[1]/div/div[1]/input').send_keys(materno)\n",
    "    # Email\n",
    "    driver.find_element(\"xpath\", '//*[@id=\"mG61Hd\"]/div[2]/div/div[2]/div[5]/div/div/div[2]/div/div[1]/div/div[1]/input').send_keys(mail)\n",
    "    # Gender\n",
    "\n",
    "    '''Generamos un diccionario con las opciones y compiamos nuevamente la ruta del xpath'''\n",
    "    \n",
    "    sexo_dict = {'Woman': '//*[@id=\"mG61Hd\"]/div[2]/div/div[2]/div[6]/div/div/div[2]/div/div/span/div/div[1]/label/div/div[2]/div/span',\n",
    "             'Male': '//*[@id=\"mG61Hd\"]/div[2]/div/div[2]/div[6]/div/div/div[2]/div/div/span/div/div[2]/label/div/div[2]/div/span',\n",
    "             'Prefiero no decirlo': '//*[@id=\"mG61Hd\"]/div[2]/div/div[2]/div[6]/div/div/div[2]/div/div/span/div/div[3]/label/div/div[2]/div/span'}\n",
    "\n",
    "    '''.click() hace click en el fomulario dependiendo del valor seleccionado'''\n",
    "    # Gender\n",
    "    driver.find_element(\"xpath\", sexo_dict[gender]).click()\n",
    "\n",
    "    # Rubro  abrir lista de rubros\n",
    "\n",
    "    #paso 1 es abrir la lista\n",
    "    driver.find_element(\"xpath\", '//*[@id=\"mG61Hd\"]/div[2]/div/div[2]/div[7]/div/div/div[2]/div/div[1]/div[1]/div[1]/span').click()\n",
    "\n",
    "    # Rubro Diccionario\n",
    "    '''Generamos el diccionario de los \"Rubros\" '''\n",
    "    rubros_dict = {'Trabajo1': '//*[@id=\"mG61Hd\"]/div[2]/div/div[2]/div[7]/div/div/div[2]/div/div[2]/div[3]',\n",
    "               'Trabajo2': '//*[@id=\"mG61Hd\"]/div[2]/div/div[2]/div[7]/div/div/div[2]/div/div[2]/div[4]',\n",
    "               'Trabajo3': '//*[@id=\"mG61Hd\"]/div[2]/div/div[2]/div[7]/div/div/div[2]/div/div[2]/div[5]'}\n",
    "    \n",
    "    #Delay 2 segundos para abrir la lista desplegable de \"rubros\"\n",
    "    time.sleep(2)\n",
    "    driver.find_element(\"xpath\", rubros_dict[rubro]).click()\n",
    "\n",
    "    #Delay 1s enviar formulario\n",
    "    time.sleep(1)\n",
    "    # Enviar formulario\n",
    "\n",
    "    driver.find_element(\"xpath\", '//*[@id=\"mG61Hd\"]/div[2]/div/div[3]/div[1]/div[1]/div/span/span').click()\n"
   ]
  }
 ],
 "metadata": {
  "kernelspec": {
   "display_name": "Python 3 (ipykernel)",
   "language": "python",
   "name": "python3"
  },
  "language_info": {
   "codemirror_mode": {
    "name": "ipython",
    "version": 3
   },
   "file_extension": ".py",
   "mimetype": "text/x-python",
   "name": "python",
   "nbconvert_exporter": "python",
   "pygments_lexer": "ipython3",
   "version": "3.9.13"
  },
  "vscode": {
   "interpreter": {
    "hash": "5238573367df39f7286bb46f9ff5f08f63a01a80960060ce41e3c79b190280fa"
   }
  }
 },
 "nbformat": 4,
 "nbformat_minor": 5
}
